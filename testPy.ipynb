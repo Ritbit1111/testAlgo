{
 "cells": [
  {
   "cell_type": "code",
   "execution_count": 1,
   "id": "29e0a12f-ac3b-4e3c-bee5-768951d2b631",
   "metadata": {},
   "outputs": [
    {
     "name": "stderr",
     "output_type": "stream",
     "text": [
      "22-07-23 13:06:35PM - INFO - connectFlattrade.py:27 - Starting the token generation!\n",
      "22-07-23 13:06:41PM - INFO - connectFlattrade.py:31 - Success: Token generated\n",
      "22-07-23 13:06:41PM - INFO - connectFlattrade.py:39 - Setting the TODAYSTOKEN to the .env\n",
      "22-07-23 13:06:41PM - INFO - FnOList.py:41 - Getting raw F&O equity list from NSE\n"
     ]
    },
    {
     "name": "stdout",
     "output_type": "stream",
     "text": [
      "4ba9400a75d8dd468b617ef118781dcb09f650f06c88b36aa3638830eb5ec673\n"
     ]
    },
    {
     "name": "stderr",
     "output_type": "stream",
     "text": [
      "22-07-23 13:06:42PM - INFO - FnOList.py:63 - Updating raw F&O equity list data to local storage\n",
      "22-07-23 13:06:42PM - INFO - FnOList.py:53 - Fetching raw F&O equity list data from local storage\n",
      "22-07-23 13:06:42PM - INFO - FnOList.py:71 - Editing raw NSE F&O euity list data\n",
      "22-07-23 13:06:42PM - INFO - FnOList.py:29 - Updating edited F&O equity list\n"
     ]
    },
    {
     "name": "stdout",
     "output_type": "stream",
     "text": [
      "{'request_time': '13:06:43 22-07-2023', 'stat': 'Ok', 'prfname': 'KAMBALA', 'cash': '0.00', 'payin': '0.00', 'payout': '0.00', 'brkcollamt': '0.00', 'unclearedcash': '0.00', 'aux_daycash': '0.00', 'aux_brkcollamt': '0.00', 'aux_unclearedcash': '0.00', 'daycash': '0.00', 'turnoverlmt': '1000000000000.00', 'pendordvallmt': '1000000000000.00', 'blk_amt': '0.00'}\n"
     ]
    }
   ],
   "source": [
    "import pandas as pd\n",
    "import datetime\n",
    "from src.logger import get_logger\n",
    "from src.FnOList import FnOEquityNSE\n",
    "from src.connectFlattrade import ConnectFlatTrade\n",
    "from src.noren import NorenApiPy\n",
    "import dotenv\n",
    "import os\n",
    "\n",
    "dotenv.load_dotenv()\n",
    "logger = get_logger(filename='./log')\n",
    "\n",
    "genToken = False\n",
    "\n",
    "if genToken:\n",
    "  con = ConnectFlatTrade(logger=logger)\n",
    "  resp = con.run()\n",
    "  con.set_token_to_dotenv()\n",
    "# print(resp)\n",
    "# token = resp['USER_TOKEN']\n",
    "token = os.getenv('TODAYSTOKEN')\n",
    "print(token)\n",
    "\n",
    "fnoconnect = FnOEquityNSE(logger=logger, path='./nsedata/fo')\n",
    "df = fnoconnect.get_latest(update=True)\n",
    "\n",
    "api = NorenApiPy()\n",
    "usersession=token\n",
    "userid = 'FT020770'\n",
    "\n",
    "ret = api.set_session(userid= userid, password = '', usertoken= usersession)\n",
    "ret = api.get_limits()\n",
    "print(ret)\n"
   ]
  },
  {
   "cell_type": "code",
   "execution_count": 15,
   "id": "f9e1c807-ab8f-45fb-84d5-b52576172630",
   "metadata": {},
   "outputs": [
    {
     "name": "stdout",
     "output_type": "stream",
     "text": [
      "                    UNDERLYING      SYMBOL  JUL-23   AUG-23   SEP-23  DEC-23  \\\n",
      "0             APOLLO TYRES LTD  APOLLOTYRE    1700   1700.0   1700.0     NaN   \n",
      "1               ASTRAL LIMITED      ASTRAL     367    367.0    367.0     NaN   \n",
      "2    ADITYA BIRLA FASHION & RT       ABFRL    2600   2600.0   2600.0     NaN   \n",
      "3      ALKEM LABORATORIES LTD.       ALKEM     200    200.0    200.0     NaN   \n",
      "4         AARTI INDUSTRIES LTD    AARTIIND    1000   1000.0   1000.0     NaN   \n",
      "..                         ...         ...     ...      ...      ...     ...   \n",
      "180        POWER FIN CORP LTD.         PFC    6200   6200.0   6200.0     NaN   \n",
      "181         TATA STEEL LIMITED   TATASTEEL    5500   5500.0   5500.0     NaN   \n",
      "182      GODREJ PROPERTIES LTD  GODREJPROP     475    475.0    475.0     NaN   \n",
      "183      VODAFONE IDEA LIMITED        IDEA   80000  80000.0  80000.0     NaN   \n",
      "184            MPHASIS LIMITED     MPHASIS     275    275.0    275.0     NaN   \n",
      "\n",
      "     MAR-24  JUN-24  DEC-24  JUN-25  DEC-25  JUN-26  DEC-26  JUN-27  DEC-27  \\\n",
      "0       NaN     NaN     NaN     NaN     NaN     NaN     NaN     NaN     NaN   \n",
      "1       NaN     NaN     NaN     NaN     NaN     NaN     NaN     NaN     NaN   \n",
      "2       NaN     NaN     NaN     NaN     NaN     NaN     NaN     NaN     NaN   \n",
      "3       NaN     NaN     NaN     NaN     NaN     NaN     NaN     NaN     NaN   \n",
      "4       NaN     NaN     NaN     NaN     NaN     NaN     NaN     NaN     NaN   \n",
      "..      ...     ...     ...     ...     ...     ...     ...     ...     ...   \n",
      "180     NaN     NaN     NaN     NaN     NaN     NaN     NaN     NaN     NaN   \n",
      "181     NaN     NaN     NaN     NaN     NaN     NaN     NaN     NaN     NaN   \n",
      "182     NaN     NaN     NaN     NaN     NaN     NaN     NaN     NaN     NaN   \n",
      "183     NaN     NaN     NaN     NaN     NaN     NaN     NaN     NaN     NaN   \n",
      "184     NaN     NaN     NaN     NaN     NaN     NaN     NaN     NaN     NaN   \n",
      "\n",
      "     JUN-28           tsym  token  \n",
      "0       NaN  APOLLOTYRE-EQ    163  \n",
      "1       NaN      ASTRAL-EQ  14418  \n",
      "2       NaN       ABFRL-EQ  30108  \n",
      "3       NaN       ALKEM-EQ  11703  \n",
      "4       NaN    AARTIIND-EQ      7  \n",
      "..      ...            ...    ...  \n",
      "180     NaN         PFC-EQ  14299  \n",
      "181     NaN   TATASTEEL-EQ   3499  \n",
      "182     NaN  GODREJPROP-EQ  17875  \n",
      "183     NaN        IDEA-EQ  14366  \n",
      "184     NaN     MPHASIS-EQ   4503  \n",
      "\n",
      "[185 rows x 18 columns]\n"
     ]
    }
   ],
   "source": [
    "tsym = []\n",
    "token = []\n",
    "for index, row in df.iterrows():\n",
    "    st = row['UNDERLYING']\n",
    "    obj = api.searchscrip(exchange='NSE', searchtext=st)\n",
    "    added = False\n",
    "    for i in obj['values']:\n",
    "        if (i['tsym'].endswith('EQ') and i['cname']==st):\n",
    "            tsym.append(i['tsym'])\n",
    "            token.append(i['token'])\n",
    "            added=True\n",
    "            break\n",
    "    if not added:\n",
    "        logger.error(\"Unable to find token for %s\", st)\n",
    "\n",
    "df['tsym'] = tsym\n",
    "df['token'] = token\n",
    "print(df)\n",
    "# df.to_csv('/content/fo_scrips.csv')"
   ]
  },
  {
   "cell_type": "code",
   "execution_count": 1,
   "id": "9184b9d9-2ca4-40da-9b58-8c5fcebeda04",
   "metadata": {},
   "outputs": [],
   "source": [
    "import time"
   ]
  },
  {
   "cell_type": "code",
   "execution_count": 2,
   "id": "2df396d2-03d4-466f-97c8-d66f159deb70",
   "metadata": {},
   "outputs": [
    {
     "data": {
      "text/plain": [
       "'22-07-2023'"
      ]
     },
     "execution_count": 2,
     "metadata": {},
     "output_type": "execute_result"
    }
   ],
   "source": [
    "time.strftime('%d-%m-%Y')"
   ]
  },
  {
   "cell_type": "code",
   "execution_count": 3,
   "id": "5a043197-9866-42a6-9777-5876f441dd0a",
   "metadata": {},
   "outputs": [
    {
     "data": {
      "text/plain": [
       "time.struct_time(tm_year=2023, tm_mon=7, tm_mday=22, tm_hour=19, tm_min=44, tm_sec=19, tm_wday=5, tm_yday=203, tm_isdst=0)"
      ]
     },
     "execution_count": 3,
     "metadata": {},
     "output_type": "execute_result"
    }
   ],
   "source": [
    "time.localtime()"
   ]
  },
  {
   "cell_type": "code",
   "execution_count": 5,
   "id": "ec63d24f-261e-402b-88d9-de4613b42946",
   "metadata": {},
   "outputs": [
    {
     "data": {
      "text/plain": [
       "1690035317.0"
      ]
     },
     "execution_count": 5,
     "metadata": {},
     "output_type": "execute_result"
    }
   ],
   "source": [
    "time.mktime(time.localtime())"
   ]
  },
  {
   "cell_type": "code",
   "execution_count": 9,
   "id": "bd6e00c0-602c-429a-8e71-dd0bd78f593b",
   "metadata": {},
   "outputs": [
    {
     "name": "stdout",
     "output_type": "stream",
     "text": [
      "time.struct_time(tm_year=2023, tm_mon=7, tm_mday=22, tm_hour=9, tm_min=15, tm_sec=0, tm_wday=5, tm_yday=203, tm_isdst=-1)\n"
     ]
    }
   ],
   "source": [
    "time_string = '22-07-2023 09:15:00'\n",
    "data = time.strptime(time_string,'%d-%m-%Y %H:%M:%S', tz)\n",
    "print(data)"
   ]
  },
  {
   "cell_type": "code",
   "execution_count": 17,
   "id": "5cdacd16-af37-4333-9547-0df7160c10a8",
   "metadata": {},
   "outputs": [
    {
     "ename": "AttributeError",
     "evalue": "'time.struct_time' object has no attribute 'tzname'",
     "output_type": "error",
     "traceback": [
      "\u001b[0;31m---------------------------------------------------------------------------\u001b[0m",
      "\u001b[0;31mAttributeError\u001b[0m                            Traceback (most recent call last)",
      "Cell \u001b[0;32mIn[17], line 1\u001b[0m\n\u001b[0;32m----> 1\u001b[0m \u001b[43mtime\u001b[49m\u001b[38;5;241;43m.\u001b[39;49m\u001b[43mlocaltime\u001b[49m\u001b[43m(\u001b[49m\u001b[43m)\u001b[49m\u001b[38;5;241;43m.\u001b[39;49m\u001b[43mtzname\u001b[49m\n",
      "\u001b[0;31mAttributeError\u001b[0m: 'time.struct_time' object has no attribute 'tzname'"
     ]
    }
   ],
   "source": [
    "time.localtime().tzname"
   ]
  },
  {
   "cell_type": "code",
   "execution_count": 19,
   "id": "12025e2a-aa95-4e05-8ff9-ea149418e347",
   "metadata": {},
   "outputs": [],
   "source": [
    "import asyncio\n",
    "\n",
    "async def main():\n",
    "    print('Hello ...')\n",
    "    await asyncio.sleep(1)\n",
    "    print('... World!')\n",
    "\n"
   ]
  },
  {
   "cell_type": "code",
   "execution_count": 21,
   "id": "3991296b-9bd8-44f6-9ce4-59b794841783",
   "metadata": {},
   "outputs": [
    {
     "name": "stdout",
     "output_type": "stream",
     "text": [
      "Hello ...\n",
      "... World!\n"
     ]
    }
   ],
   "source": [
    "await main()"
   ]
  },
  {
   "cell_type": "code",
   "execution_count": 1,
   "id": "3d01e14c-254d-4a9b-a519-35c6c0081809",
   "metadata": {},
   "outputs": [],
   "source": [
    "import pandas as pd\n"
   ]
  },
  {
   "cell_type": "code",
   "execution_count": 5,
   "id": "096bf7ac-c54a-43a6-a934-7dcb5d9884c4",
   "metadata": {},
   "outputs": [],
   "source": [
    "a = [{'hi':40, 'lo':20, 'open':30, 'close':32}, {'hi':34, 'lo':17, 'open':32, 'close':28}, {'hi':40, 'lo':20, 'open':30, 'close':32}, {'hi':40, 'lo':20, 'open':30, 'close':32}]"
   ]
  },
  {
   "cell_type": "code",
   "execution_count": 8,
   "id": "9fdcbdc6-8fd7-4ff1-99b2-bd051307e825",
   "metadata": {},
   "outputs": [],
   "source": [
    "df1 = pd.DataFrame(a)"
   ]
  },
  {
   "cell_type": "code",
   "execution_count": 10,
   "id": "3eb8063d-d8f7-40e2-9346-cfe1971a9710",
   "metadata": {},
   "outputs": [
    {
     "data": {
      "text/html": [
       "<div>\n",
       "<style scoped>\n",
       "    .dataframe tbody tr th:only-of-type {\n",
       "        vertical-align: middle;\n",
       "    }\n",
       "\n",
       "    .dataframe tbody tr th {\n",
       "        vertical-align: top;\n",
       "    }\n",
       "\n",
       "    .dataframe thead th {\n",
       "        text-align: right;\n",
       "    }\n",
       "</style>\n",
       "<table border=\"1\" class=\"dataframe\">\n",
       "  <thead>\n",
       "    <tr style=\"text-align: right;\">\n",
       "      <th></th>\n",
       "      <th>hi</th>\n",
       "      <th>lo</th>\n",
       "      <th>open</th>\n",
       "      <th>close</th>\n",
       "    </tr>\n",
       "  </thead>\n",
       "  <tbody>\n",
       "    <tr>\n",
       "      <th>0</th>\n",
       "      <td>40</td>\n",
       "      <td>20</td>\n",
       "      <td>30</td>\n",
       "      <td>32</td>\n",
       "    </tr>\n",
       "    <tr>\n",
       "      <th>1</th>\n",
       "      <td>34</td>\n",
       "      <td>17</td>\n",
       "      <td>32</td>\n",
       "      <td>28</td>\n",
       "    </tr>\n",
       "    <tr>\n",
       "      <th>2</th>\n",
       "      <td>40</td>\n",
       "      <td>20</td>\n",
       "      <td>30</td>\n",
       "      <td>32</td>\n",
       "    </tr>\n",
       "    <tr>\n",
       "      <th>3</th>\n",
       "      <td>40</td>\n",
       "      <td>20</td>\n",
       "      <td>30</td>\n",
       "      <td>32</td>\n",
       "    </tr>\n",
       "  </tbody>\n",
       "</table>\n",
       "</div>"
      ],
      "text/plain": [
       "   hi  lo  open  close\n",
       "0  40  20    30     32\n",
       "1  34  17    32     28\n",
       "2  40  20    30     32\n",
       "3  40  20    30     32"
      ]
     },
     "execution_count": 10,
     "metadata": {},
     "output_type": "execute_result"
    }
   ],
   "source": [
    "df1"
   ]
  },
  {
   "cell_type": "code",
   "execution_count": 11,
   "id": "98ea31a6-cbbe-42f9-a101-aea4e959bdb2",
   "metadata": {},
   "outputs": [],
   "source": [
    "b = [{'hi':40, 'lo':20, 'open':30, 'close':32}, {'hi':34, 'lo':17, 'open':32, 'close':28}, {'hi':40, 'lo':20, 'open':30, 'close':32}, {'hi':40, 'lo':20, 'open':30, 'close':32}]"
   ]
  },
  {
   "cell_type": "code",
   "execution_count": 14,
   "id": "ffaeb434-508d-49d6-8b8d-722915d8a1b4",
   "metadata": {},
   "outputs": [
    {
     "data": {
      "text/html": [
       "<div>\n",
       "<style scoped>\n",
       "    .dataframe tbody tr th:only-of-type {\n",
       "        vertical-align: middle;\n",
       "    }\n",
       "\n",
       "    .dataframe tbody tr th {\n",
       "        vertical-align: top;\n",
       "    }\n",
       "\n",
       "    .dataframe thead th {\n",
       "        text-align: right;\n",
       "    }\n",
       "</style>\n",
       "<table border=\"1\" class=\"dataframe\">\n",
       "  <thead>\n",
       "    <tr style=\"text-align: right;\">\n",
       "      <th></th>\n",
       "      <th>hi</th>\n",
       "      <th>lo</th>\n",
       "      <th>open</th>\n",
       "      <th>close</th>\n",
       "      <th>hi</th>\n",
       "      <th>lo</th>\n",
       "      <th>open</th>\n",
       "      <th>close</th>\n",
       "    </tr>\n",
       "  </thead>\n",
       "  <tbody>\n",
       "    <tr>\n",
       "      <th>0</th>\n",
       "      <td>40</td>\n",
       "      <td>20</td>\n",
       "      <td>30</td>\n",
       "      <td>32</td>\n",
       "      <td>40</td>\n",
       "      <td>20</td>\n",
       "      <td>30</td>\n",
       "      <td>32</td>\n",
       "    </tr>\n",
       "    <tr>\n",
       "      <th>1</th>\n",
       "      <td>34</td>\n",
       "      <td>17</td>\n",
       "      <td>32</td>\n",
       "      <td>28</td>\n",
       "      <td>34</td>\n",
       "      <td>17</td>\n",
       "      <td>32</td>\n",
       "      <td>28</td>\n",
       "    </tr>\n",
       "    <tr>\n",
       "      <th>2</th>\n",
       "      <td>40</td>\n",
       "      <td>20</td>\n",
       "      <td>30</td>\n",
       "      <td>32</td>\n",
       "      <td>40</td>\n",
       "      <td>20</td>\n",
       "      <td>30</td>\n",
       "      <td>32</td>\n",
       "    </tr>\n",
       "    <tr>\n",
       "      <th>3</th>\n",
       "      <td>40</td>\n",
       "      <td>20</td>\n",
       "      <td>30</td>\n",
       "      <td>32</td>\n",
       "      <td>40</td>\n",
       "      <td>20</td>\n",
       "      <td>30</td>\n",
       "      <td>32</td>\n",
       "    </tr>\n",
       "  </tbody>\n",
       "</table>\n",
       "</div>"
      ],
      "text/plain": [
       "   hi  lo  open  close  hi  lo  open  close\n",
       "0  40  20    30     32  40  20    30     32\n",
       "1  34  17    32     28  34  17    32     28\n",
       "2  40  20    30     32  40  20    30     32\n",
       "3  40  20    30     32  40  20    30     32"
      ]
     },
     "execution_count": 14,
     "metadata": {},
     "output_type": "execute_result"
    }
   ],
   "source": [
    "df2 = pd.DataFrame(b)\n",
    "pd.concat([df1, df2], axis=1)"
   ]
  },
  {
   "cell_type": "code",
   "execution_count": null,
   "id": "54457ca0-3e41-4bf3-a44c-532c76f53a68",
   "metadata": {},
   "outputs": [],
   "source": []
  }
 ],
 "metadata": {
  "kernelspec": {
   "display_name": "Python 3 (ipykernel)",
   "language": "python",
   "name": "python3"
  },
  "language_info": {
   "codemirror_mode": {
    "name": "ipython",
    "version": 3
   },
   "file_extension": ".py",
   "mimetype": "text/x-python",
   "name": "python",
   "nbconvert_exporter": "python",
   "pygments_lexer": "ipython3",
   "version": "3.11.4"
  }
 },
 "nbformat": 4,
 "nbformat_minor": 5
}
