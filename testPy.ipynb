{
 "cells": [
  {
   "cell_type": "code",
   "execution_count": 16,
   "id": "29e0a12f-ac3b-4e3c-bee5-768951d2b631",
   "metadata": {},
   "outputs": [
    {
     "name": "stderr",
     "output_type": "stream",
     "text": [
      "21-07-23 19:40:13PM - INFO - FnOList.py:38 - Getting raw F&O equity list from NSE\n",
      "21-07-23 19:40:13PM - INFO - FnOList.py:38 - Getting raw F&O equity list from NSE\n",
      "21-07-23 19:40:13PM - INFO - FnOList.py:38 - Getting raw F&O equity list from NSE\n",
      "21-07-23 19:40:13PM - INFO - FnOList.py:38 - Getting raw F&O equity list from NSE\n",
      "21-07-23 19:40:13PM - INFO - FnOList.py:38 - Getting raw F&O equity list from NSE\n",
      "21-07-23 19:40:13PM - INFO - FnOList.py:38 - Getting raw F&O equity list from NSE\n",
      "21-07-23 19:40:13PM - INFO - FnOList.py:38 - Getting raw F&O equity list from NSE\n"
     ]
    },
    {
     "name": "stdout",
     "output_type": "stream",
     "text": [
      "150dad0de574bab9bd2336e1030353393f0dba45049942ee5d1066302890680a\n"
     ]
    },
    {
     "name": "stderr",
     "output_type": "stream",
     "text": [
      "21-07-23 19:40:13PM - INFO - FnOList.py:47 - Updating raw F&O equity list data to local storage\n",
      "21-07-23 19:40:13PM - INFO - FnOList.py:47 - Updating raw F&O equity list data to local storage\n",
      "21-07-23 19:40:13PM - INFO - FnOList.py:47 - Updating raw F&O equity list data to local storage\n",
      "21-07-23 19:40:13PM - INFO - FnOList.py:47 - Updating raw F&O equity list data to local storage\n",
      "21-07-23 19:40:13PM - INFO - FnOList.py:47 - Updating raw F&O equity list data to local storage\n",
      "21-07-23 19:40:13PM - INFO - FnOList.py:47 - Updating raw F&O equity list data to local storage\n",
      "21-07-23 19:40:13PM - INFO - FnOList.py:47 - Updating raw F&O equity list data to local storage\n",
      "21-07-23 19:40:13PM - INFO - FnOList.py:42 - Fetching raw F&O equity list data from local storage\n",
      "21-07-23 19:40:13PM - INFO - FnOList.py:42 - Fetching raw F&O equity list data from local storage\n",
      "21-07-23 19:40:13PM - INFO - FnOList.py:42 - Fetching raw F&O equity list data from local storage\n",
      "21-07-23 19:40:13PM - INFO - FnOList.py:42 - Fetching raw F&O equity list data from local storage\n",
      "21-07-23 19:40:13PM - INFO - FnOList.py:42 - Fetching raw F&O equity list data from local storage\n",
      "21-07-23 19:40:13PM - INFO - FnOList.py:42 - Fetching raw F&O equity list data from local storage\n",
      "21-07-23 19:40:13PM - INFO - FnOList.py:42 - Fetching raw F&O equity list data from local storage\n",
      "21-07-23 19:40:13PM - INFO - FnOList.py:51 - Editing raw NSE F&O euity list data\n",
      "21-07-23 19:40:13PM - INFO - FnOList.py:51 - Editing raw NSE F&O euity list data\n",
      "21-07-23 19:40:13PM - INFO - FnOList.py:51 - Editing raw NSE F&O euity list data\n",
      "21-07-23 19:40:13PM - INFO - FnOList.py:51 - Editing raw NSE F&O euity list data\n",
      "21-07-23 19:40:13PM - INFO - FnOList.py:51 - Editing raw NSE F&O euity list data\n",
      "21-07-23 19:40:13PM - INFO - FnOList.py:51 - Editing raw NSE F&O euity list data\n",
      "21-07-23 19:40:13PM - INFO - FnOList.py:51 - Editing raw NSE F&O euity list data\n",
      "21-07-23 19:40:13PM - INFO - FnOList.py:28 - Updating edited F&O equity list\n",
      "21-07-23 19:40:13PM - INFO - FnOList.py:28 - Updating edited F&O equity list\n",
      "21-07-23 19:40:13PM - INFO - FnOList.py:28 - Updating edited F&O equity list\n",
      "21-07-23 19:40:13PM - INFO - FnOList.py:28 - Updating edited F&O equity list\n",
      "21-07-23 19:40:13PM - INFO - FnOList.py:28 - Updating edited F&O equity list\n",
      "21-07-23 19:40:13PM - INFO - FnOList.py:28 - Updating edited F&O equity list\n",
      "21-07-23 19:40:13PM - INFO - FnOList.py:28 - Updating edited F&O equity list\n"
     ]
    },
    {
     "name": "stdout",
     "output_type": "stream",
     "text": [
      "{'request_time': '19:40:13 21-07-2023', 'stat': 'Ok', 'prfname': 'KAMBALA', 'cash': '0.00', 'payin': '0.00', 'payout': '0.00', 'brkcollamt': '0.00', 'unclearedcash': '0.00', 'aux_daycash': '0.00', 'aux_brkcollamt': '0.00', 'aux_unclearedcash': '0.00', 'daycash': '0.00', 'turnoverlmt': '1000000000000.00', 'pendordvallmt': '1000000000000.00', 'blk_amt': '0.00'}\n"
     ]
    }
   ],
   "source": [
    "import pandas as pd\n",
    "import datetime\n",
    "from src.logger import get_logger\n",
    "from src.FnOList import FnOEquityNSE\n",
    "from src.connectFlattrade import ConnectFlatTrade\n",
    "from src.noren import NorenApiPy\n",
    "import dotenv\n",
    "import os\n",
    "\n",
    "dotenv.load_dotenv()\n",
    "logger = get_logger(filename='./log')\n",
    "\n",
    "genToken = False\n",
    "\n",
    "if genToken:\n",
    "  con = ConnectFlatTrade(logger=logger)\n",
    "  resp = con.run()\n",
    "  con.set_token_to_dotenv()\n",
    "# print(resp)\n",
    "# token = resp['USER_TOKEN']\n",
    "token = os.getenv('TODAYSTOKEN')\n",
    "print(token)\n",
    "\n",
    "fnoconnect = FnOEquityNSE(logger=logger, path='./nsedata/fo')\n",
    "df = fnoconnect.get_latest(update=True)\n",
    "\n",
    "api = NorenApiPy()\n",
    "usersession=token\n",
    "userid = 'FT020770'\n",
    "\n",
    "ret = api.set_session(userid= userid, password = '', usertoken= usersession)\n",
    "ret = api.get_limits()\n",
    "print(ret)\n"
   ]
  },
  {
   "cell_type": "code",
   "execution_count": 15,
   "id": "f9e1c807-ab8f-45fb-84d5-b52576172630",
   "metadata": {},
   "outputs": [
    {
     "name": "stdout",
     "output_type": "stream",
     "text": [
      "                    UNDERLYING      SYMBOL  JUL-23   AUG-23   SEP-23  DEC-23  \\\n",
      "0             APOLLO TYRES LTD  APOLLOTYRE    1700   1700.0   1700.0     NaN   \n",
      "1               ASTRAL LIMITED      ASTRAL     367    367.0    367.0     NaN   \n",
      "2    ADITYA BIRLA FASHION & RT       ABFRL    2600   2600.0   2600.0     NaN   \n",
      "3      ALKEM LABORATORIES LTD.       ALKEM     200    200.0    200.0     NaN   \n",
      "4         AARTI INDUSTRIES LTD    AARTIIND    1000   1000.0   1000.0     NaN   \n",
      "..                         ...         ...     ...      ...      ...     ...   \n",
      "180        POWER FIN CORP LTD.         PFC    6200   6200.0   6200.0     NaN   \n",
      "181         TATA STEEL LIMITED   TATASTEEL    5500   5500.0   5500.0     NaN   \n",
      "182      GODREJ PROPERTIES LTD  GODREJPROP     475    475.0    475.0     NaN   \n",
      "183      VODAFONE IDEA LIMITED        IDEA   80000  80000.0  80000.0     NaN   \n",
      "184            MPHASIS LIMITED     MPHASIS     275    275.0    275.0     NaN   \n",
      "\n",
      "     MAR-24  JUN-24  DEC-24  JUN-25  DEC-25  JUN-26  DEC-26  JUN-27  DEC-27  \\\n",
      "0       NaN     NaN     NaN     NaN     NaN     NaN     NaN     NaN     NaN   \n",
      "1       NaN     NaN     NaN     NaN     NaN     NaN     NaN     NaN     NaN   \n",
      "2       NaN     NaN     NaN     NaN     NaN     NaN     NaN     NaN     NaN   \n",
      "3       NaN     NaN     NaN     NaN     NaN     NaN     NaN     NaN     NaN   \n",
      "4       NaN     NaN     NaN     NaN     NaN     NaN     NaN     NaN     NaN   \n",
      "..      ...     ...     ...     ...     ...     ...     ...     ...     ...   \n",
      "180     NaN     NaN     NaN     NaN     NaN     NaN     NaN     NaN     NaN   \n",
      "181     NaN     NaN     NaN     NaN     NaN     NaN     NaN     NaN     NaN   \n",
      "182     NaN     NaN     NaN     NaN     NaN     NaN     NaN     NaN     NaN   \n",
      "183     NaN     NaN     NaN     NaN     NaN     NaN     NaN     NaN     NaN   \n",
      "184     NaN     NaN     NaN     NaN     NaN     NaN     NaN     NaN     NaN   \n",
      "\n",
      "     JUN-28           tsym  token  \n",
      "0       NaN  APOLLOTYRE-EQ    163  \n",
      "1       NaN      ASTRAL-EQ  14418  \n",
      "2       NaN       ABFRL-EQ  30108  \n",
      "3       NaN       ALKEM-EQ  11703  \n",
      "4       NaN    AARTIIND-EQ      7  \n",
      "..      ...            ...    ...  \n",
      "180     NaN         PFC-EQ  14299  \n",
      "181     NaN   TATASTEEL-EQ   3499  \n",
      "182     NaN  GODREJPROP-EQ  17875  \n",
      "183     NaN        IDEA-EQ  14366  \n",
      "184     NaN     MPHASIS-EQ   4503  \n",
      "\n",
      "[185 rows x 18 columns]\n"
     ]
    }
   ],
   "source": [
    "tsym = []\n",
    "token = []\n",
    "for index, row in df.iterrows():\n",
    "    st = row['UNDERLYING']\n",
    "    obj = api.searchscrip(exchange='NSE', searchtext=st)\n",
    "    added = False\n",
    "    for i in obj['values']:\n",
    "        if (i['tsym'].endswith('EQ') and i['cname']==st):\n",
    "            tsym.append(i['tsym'])\n",
    "            token.append(i['token'])\n",
    "            added=True\n",
    "            break\n",
    "    if not added:\n",
    "        logger.error(\"Unable to find token for %s\", st)\n",
    "\n",
    "df['tsym'] = tsym\n",
    "df['token'] = token\n",
    "print(df)\n",
    "# df.to_csv('/content/fo_scrips.csv')"
   ]
  },
  {
   "cell_type": "code",
   "execution_count": null,
   "id": "9184b9d9-2ca4-40da-9b58-8c5fcebeda04",
   "metadata": {},
   "outputs": [],
   "source": []
  }
 ],
 "metadata": {
  "kernelspec": {
   "display_name": "Python 3 (ipykernel)",
   "language": "python",
   "name": "python3"
  },
  "language_info": {
   "codemirror_mode": {
    "name": "ipython",
    "version": 3
   },
   "file_extension": ".py",
   "mimetype": "text/x-python",
   "name": "python",
   "nbconvert_exporter": "python",
   "pygments_lexer": "ipython3",
   "version": "3.11.4"
  }
 },
 "nbformat": 4,
 "nbformat_minor": 5
}
