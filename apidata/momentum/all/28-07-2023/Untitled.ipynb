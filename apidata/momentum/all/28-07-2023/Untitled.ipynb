{
 "cells": [
  {
   "cell_type": "code",
   "execution_count": 3,
   "id": "109fb627-45b8-4d62-99e3-f1348a2e93b1",
   "metadata": {},
   "outputs": [],
   "source": [
    "import openpyxl"
   ]
  },
  {
   "cell_type": "code",
   "execution_count": 20,
   "id": "0c2daa59-3061-42bf-a300-a78a41278361",
   "metadata": {},
   "outputs": [],
   "source": [
    "from openpyxl import Workbook, load_workbook"
   ]
  },
  {
   "cell_type": "code",
   "execution_count": 23,
   "id": "b7e3d719-ba2f-47e6-b33e-5f49568f7192",
   "metadata": {},
   "outputs": [],
   "source": [
    "wb = load_workbook('report_28-07-2023.xlsx')"
   ]
  },
  {
   "cell_type": "code",
   "execution_count": 24,
   "id": "70614eff-4136-4d3b-8c29-08a573ea2058",
   "metadata": {},
   "outputs": [
    {
     "data": {
      "text/plain": [
       "<Worksheet \"Overall\">"
      ]
     },
     "execution_count": 24,
     "metadata": {},
     "output_type": "execute_result"
    }
   ],
   "source": [
    "ws = wb.active\n",
    "ws"
   ]
  },
  {
   "cell_type": "raw",
   "id": "ee9d27be-616d-4bc5-be5f-79970b187496",
   "metadata": {},
   "source": [
    "list(ws.cols)"
   ]
  },
  {
   "cell_type": "code",
   "execution_count": 25,
   "id": "7b506c48-41b8-4c0e-bf93-9baa6f03bb36",
   "metadata": {},
   "outputs": [
    {
     "name": "stdout",
     "output_type": "stream",
     "text": [
      "<generator object Worksheet._cells_by_row at 0x1178884c0>\n"
     ]
    }
   ],
   "source": [
    "print(ws.rows)"
   ]
  },
  {
   "cell_type": "code",
   "execution_count": 26,
   "id": "97ae22ba-7d5b-407e-b505-d332a77e414e",
   "metadata": {},
   "outputs": [
    {
     "name": "stdout",
     "output_type": "stream",
     "text": [
      "DELTACORP-EQ\n"
     ]
    }
   ],
   "source": [
    "print(ws['D9'].value)"
   ]
  },
  {
   "cell_type": "code",
   "execution_count": 30,
   "id": "01f0644c-fc03-4c60-bf17-733ce61f34b1",
   "metadata": {},
   "outputs": [],
   "source": [
    "wb = Workbook()\n",
    "ws = wb.create_sheet(\"HI\")"
   ]
  },
  {
   "cell_type": "code",
   "execution_count": 31,
   "id": "22ce9926-df6e-400f-9326-36ddcd7059c8",
   "metadata": {},
   "outputs": [
    {
     "data": {
      "text/plain": [
       "<Worksheet \"HI\">"
      ]
     },
     "execution_count": 31,
     "metadata": {},
     "output_type": "execute_result"
    }
   ],
   "source": [
    "wb[\"HI\"]"
   ]
  },
  {
   "cell_type": "code",
   "execution_count": 3,
   "id": "1675f740-cd05-4e35-b802-0b8c9e634411",
   "metadata": {},
   "outputs": [],
   "source": [
    "import datetime\n",
    "\n",
    "st = datetime.datetime(2023, 7, 28)\n",
    "et = datetime.datetime.now().replace(hour=0, minute=0, second=0, microsecond=0, tzinfo=None)"
   ]
  },
  {
   "cell_type": "code",
   "execution_count": 4,
   "id": "40f57019-4170-4655-b53a-6144df79ca23",
   "metadata": {},
   "outputs": [
    {
     "data": {
      "text/plain": [
       "DatetimeIndex(['2023-07-28', '2023-07-31', '2023-08-01', '2023-08-02',\n",
       "               '2023-08-03', '2023-08-04'],\n",
       "              dtype='datetime64[ns]', freq='B')"
      ]
     },
     "execution_count": 4,
     "metadata": {},
     "output_type": "execute_result"
    }
   ],
   "source": [
    "import pandas as pd\n",
    "pd.date_range(dt, et, freq='B')"
   ]
  },
  {
   "cell_type": "code",
   "execution_count": 16,
   "id": "55189013-c5b8-48be-8fbd-1b9b009b00f7",
   "metadata": {},
   "outputs": [],
   "source": [
    "import datetime"
   ]
  },
  {
   "cell_type": "code",
   "execution_count": 7,
   "id": "2cd4fb4e-1e10-4dbb-bcb9-e3393bb0e5f2",
   "metadata": {},
   "outputs": [],
   "source": [
    "a = datetime.datetime.now()\n",
    "b = datetime.datetime.now() - datetime.timedelta(hours=1)"
   ]
  },
  {
   "cell_type": "code",
   "execution_count": 8,
   "id": "f553b97e-9657-4fd6-9731-550d05d4a684",
   "metadata": {},
   "outputs": [
    {
     "data": {
      "text/plain": [
       "datetime.datetime(2023, 8, 7, 6, 45, 21, 634463)"
      ]
     },
     "execution_count": 8,
     "metadata": {},
     "output_type": "execute_result"
    }
   ],
   "source": [
    "a"
   ]
  },
  {
   "cell_type": "code",
   "execution_count": 9,
   "id": "a5d37ea5-933d-4a86-900e-a365d3bccb72",
   "metadata": {},
   "outputs": [
    {
     "data": {
      "text/plain": [
       "datetime.datetime(2023, 8, 7, 5, 45, 21, 634586)"
      ]
     },
     "execution_count": 9,
     "metadata": {},
     "output_type": "execute_result"
    }
   ],
   "source": [
    "b"
   ]
  },
  {
   "cell_type": "code",
   "execution_count": 11,
   "id": "c8b96b15-2978-49db-b17f-0968de75ab65",
   "metadata": {},
   "outputs": [],
   "source": [
    "li = [a, b]"
   ]
  },
  {
   "cell_type": "code",
   "execution_count": 14,
   "id": "0051fe64-9e37-4e33-8bfb-ef0541377d53",
   "metadata": {},
   "outputs": [],
   "source": [
    "li.sort(reverse=True)"
   ]
  },
  {
   "cell_type": "code",
   "execution_count": 15,
   "id": "ce18f6f6-b19f-414c-b3d4-8ff6b5f58417",
   "metadata": {},
   "outputs": [
    {
     "data": {
      "text/plain": [
       "[datetime.datetime(2023, 8, 7, 6, 45, 21, 634463),\n",
       " datetime.datetime(2023, 8, 7, 5, 45, 21, 634586)]"
      ]
     },
     "execution_count": 15,
     "metadata": {},
     "output_type": "execute_result"
    }
   ],
   "source": [
    "li"
   ]
  },
  {
   "cell_type": "code",
   "execution_count": 17,
   "id": "9ce6d318-7a69-46cf-a7f0-8864ca6ffa5d",
   "metadata": {},
   "outputs": [],
   "source": [
    "\n",
    "st = datetime.datetime(2023, 7, 28)\n",
    "et = datetime.datetime(2023, 7, 29)\n",
    "\n",
    "# et = datetime.datetime.now().replace(hour=0, minute=0, second=0, microsecond=0, tzinfo=None)\n",
    "days = pd.date_range(start=st, end=et, freq='B')"
   ]
  },
  {
   "cell_type": "code",
   "execution_count": 18,
   "id": "fdd8994d-34ff-4cb2-a349-8b5de1a52549",
   "metadata": {},
   "outputs": [
    {
     "data": {
      "text/plain": [
       "DatetimeIndex(['2023-07-28'], dtype='datetime64[ns]', freq='B')"
      ]
     },
     "execution_count": 18,
     "metadata": {},
     "output_type": "execute_result"
    }
   ],
   "source": [
    "days"
   ]
  },
  {
   "cell_type": "code",
   "execution_count": null,
   "id": "2070a723-e80e-4bbe-8928-7159cb92ee4a",
   "metadata": {},
   "outputs": [],
   "source": []
  }
 ],
 "metadata": {
  "kernelspec": {
   "display_name": "Python 3 (ipykernel)",
   "language": "python",
   "name": "python3"
  },
  "language_info": {
   "codemirror_mode": {
    "name": "ipython",
    "version": 3
   },
   "file_extension": ".py",
   "mimetype": "text/x-python",
   "name": "python",
   "nbconvert_exporter": "python",
   "pygments_lexer": "ipython3",
   "version": "3.11.4"
  }
 },
 "nbformat": 4,
 "nbformat_minor": 5
}
